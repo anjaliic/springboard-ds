{
 "cells": [
  {
   "cell_type": "code",
   "execution_count": 1,
   "id": "db81318f-641f-46c8-a6cb-14b98a4622b1",
   "metadata": {},
   "outputs": [
    {
     "name": "stdout",
     "output_type": "stream",
     "text": [
      "Requirement already satisfied: numpy in /opt/anaconda3/lib/python3.12/site-packages (1.26.4)\n"
     ]
    }
   ],
   "source": [
    "!pip install numpy"
   ]
  },
  {
   "cell_type": "code",
   "execution_count": 2,
   "id": "f4c56569-8cbe-4fce-9558-1b6400b0d5e8",
   "metadata": {},
   "outputs": [],
   "source": [
    "import numpy as np"
   ]
  },
  {
   "cell_type": "code",
   "execution_count": 16,
   "id": "0e3aa426-4465-40d8-8e24-b0d4ba5d3262",
   "metadata": {},
   "outputs": [],
   "source": [
    "list1 = np.random.rand(10)\n",
    "list2 = np.random.rand(10)"
   ]
  },
  {
   "cell_type": "code",
   "execution_count": 17,
   "id": "394c8d74-a737-4d47-ae98-dcd4d3528b9d",
   "metadata": {},
   "outputs": [],
   "source": [
    "add = np.add(list1, list2)"
   ]
  },
  {
   "cell_type": "code",
   "execution_count": 18,
   "id": "c132b775-7a4e-4897-b7e9-c2d2cd552638",
   "metadata": {},
   "outputs": [
    {
     "data": {
      "text/plain": [
       "array([0.81003211, 1.07508904, 0.94875663, 1.53848993, 1.30586329,\n",
       "       1.60222935, 0.21169003, 0.89491847, 1.51526244, 0.64781495])"
      ]
     },
     "execution_count": 18,
     "metadata": {},
     "output_type": "execute_result"
    }
   ],
   "source": [
    "add"
   ]
  },
  {
   "cell_type": "code",
   "execution_count": 20,
   "id": "1b8c51de-d919-4a11-8b37-8876a95749a7",
   "metadata": {},
   "outputs": [
    {
     "data": {
      "text/plain": [
       "8.717797887081348"
      ]
     },
     "execution_count": 20,
     "metadata": {},
     "output_type": "execute_result"
    }
   ],
   "source": [
    "sqrt = np.sqrt(76)\n",
    "sqrt"
   ]
  },
  {
   "cell_type": "code",
   "execution_count": null,
   "id": "041f3d74-0cd8-47ed-9f15-bca9c6018b24",
   "metadata": {},
   "outputs": [],
   "source": []
  }
 ],
 "metadata": {
  "kernelspec": {
   "display_name": "Python 3 (ipykernel)",
   "language": "python",
   "name": "python3"
  },
  "language_info": {
   "codemirror_mode": {
    "name": "ipython",
    "version": 3
   },
   "file_extension": ".py",
   "mimetype": "text/x-python",
   "name": "python",
   "nbconvert_exporter": "python",
   "pygments_lexer": "ipython3",
   "version": "3.12.4"
  }
 },
 "nbformat": 4,
 "nbformat_minor": 5
}
