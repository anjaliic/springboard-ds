{
 "cells": [
  {
   "cell_type": "code",
   "execution_count": 1,
   "id": "2a73e164-ff9a-4ff2-96bc-de538041c974",
   "metadata": {},
   "outputs": [],
   "source": [
    "v1 = \"first string\"\n",
    "v2 = 'second string'"
   ]
  },
  {
   "cell_type": "code",
   "execution_count": 2,
   "id": "d69c0215-e915-4de0-800f-5dc3d8fa2ae5",
   "metadata": {},
   "outputs": [
    {
     "name": "stdout",
     "output_type": "stream",
     "text": [
      "first string second string\n"
     ]
    }
   ],
   "source": [
    "print(v1, v2)"
   ]
  },
  {
   "cell_type": "code",
   "execution_count": 3,
   "id": "969706ca-7524-4ad3-9b07-473888c2e4df",
   "metadata": {},
   "outputs": [],
   "source": [
    "temp1 = v1\n",
    "temp2 = v2"
   ]
  },
  {
   "cell_type": "code",
   "execution_count": 4,
   "id": "6a487076-b0d4-4e1a-8667-12bba0ab7c89",
   "metadata": {},
   "outputs": [],
   "source": [
    "v1 = temp2\n",
    "v2 = temp1"
   ]
  },
  {
   "cell_type": "code",
   "execution_count": 5,
   "id": "1006436f-7f92-4984-989a-897550c6e0ae",
   "metadata": {},
   "outputs": [
    {
     "name": "stdout",
     "output_type": "stream",
     "text": [
      "second string first string\n"
     ]
    }
   ],
   "source": [
    "print(v1, v2)"
   ]
  },
  {
   "cell_type": "code",
   "execution_count": 7,
   "id": "d7df32c6-5498-4914-bf2f-fd5e3054cdab",
   "metadata": {},
   "outputs": [],
   "source": [
    "v1 = \"first string\"\n",
    "v2 = 'second string'"
   ]
  },
  {
   "cell_type": "code",
   "execution_count": 8,
   "id": "e9a0f239-0af3-494b-87c9-8df9f90b66f0",
   "metadata": {},
   "outputs": [
    {
     "name": "stdout",
     "output_type": "stream",
     "text": [
      "first string second string\n"
     ]
    }
   ],
   "source": [
    "print (v1, v2)"
   ]
  },
  {
   "cell_type": "code",
   "execution_count": 9,
   "id": "31aef5b6-dae7-4bbd-9438-ba843a6dff9d",
   "metadata": {},
   "outputs": [],
   "source": [
    "temp = v1"
   ]
  },
  {
   "cell_type": "code",
   "execution_count": 10,
   "id": "0d9bf70d-312a-47a7-96cf-cbc78768b267",
   "metadata": {},
   "outputs": [],
   "source": [
    "v1 = v2"
   ]
  },
  {
   "cell_type": "code",
   "execution_count": 11,
   "id": "2b752621-3607-47a3-b904-db0c40ef7d7a",
   "metadata": {},
   "outputs": [],
   "source": [
    "v2 = temp"
   ]
  },
  {
   "cell_type": "code",
   "execution_count": 12,
   "id": "202e1ba7-a146-4372-bbdf-f33cca950597",
   "metadata": {},
   "outputs": [
    {
     "name": "stdout",
     "output_type": "stream",
     "text": [
      "second string first string\n"
     ]
    }
   ],
   "source": [
    "print(v1, v2)"
   ]
  },
  {
   "cell_type": "code",
   "execution_count": null,
   "id": "f969859d-1fe1-4fb4-b5e5-abfa3dc92d5b",
   "metadata": {},
   "outputs": [],
   "source": []
  }
 ],
 "metadata": {
  "kernelspec": {
   "display_name": "Python 3 (ipykernel)",
   "language": "python",
   "name": "python3"
  },
  "language_info": {
   "codemirror_mode": {
    "name": "ipython",
    "version": 3
   },
   "file_extension": ".py",
   "mimetype": "text/x-python",
   "name": "python",
   "nbconvert_exporter": "python",
   "pygments_lexer": "ipython3",
   "version": "3.12.4"
  }
 },
 "nbformat": 4,
 "nbformat_minor": 5
}
